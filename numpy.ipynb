{
  "nbformat": 4,
  "nbformat_minor": 0,
  "metadata": {
    "colab": {
      "provenance": [],
      "authorship_tag": "ABX9TyN5oUOyQS9lDOCJqBwb9sQ9",
      "include_colab_link": true
    },
    "kernelspec": {
      "name": "python3",
      "display_name": "Python 3"
    },
    "language_info": {
      "name": "python"
    }
  },
  "cells": [
    {
      "cell_type": "markdown",
      "metadata": {
        "id": "view-in-github",
        "colab_type": "text"
      },
      "source": [
        "<a href=\"https://colab.research.google.com/github/sameerraj227/python_library/blob/main/numpy.ipynb\" target=\"_parent\"><img src=\"https://colab.research.google.com/assets/colab-badge.svg\" alt=\"Open In Colab\"/></a>"
      ]
    },
    {
      "cell_type": "code",
      "execution_count": null,
      "metadata": {
        "id": "edYBC2AY4B-g"
      },
      "outputs": [],
      "source": [
        "import numpy as np"
      ]
    },
    {
      "cell_type": "markdown",
      "source": [
        "#array declaration(in form of list) using np\n",
        "\n",
        "variable_name=np.array([num1,num2,num3])\n"
      ],
      "metadata": {
        "id": "szdpFQCgpcLr"
      }
    },
    {
      "cell_type": "code",
      "source": [
        " job_titles=np.array(['Data Analyst','Data Scientist','Data Engineer','Machine Learning Engineer'])\n",
        "\n",
        " base_salary=np.array([50000,70000,80000,90000])\n",
        "\n",
        " bonus_rates=np.array([0.05,0.1,0.8,0.12])"
      ],
      "metadata": {
        "id": "jy_vjAZi4Yll"
      },
      "execution_count": null,
      "outputs": []
    },
    {
      "cell_type": "code",
      "source": [
        "total_salary=base_salary+(base_salary*bonus_rates)\n",
        "\n",
        "total_salary"
      ],
      "metadata": {
        "colab": {
          "base_uri": "https://localhost:8080/"
        },
        "id": "OdBLAfYcY2FG",
        "outputId": "2d717c24-a775-494d-9da3-2a68bacd948c"
      },
      "execution_count": null,
      "outputs": [
        {
          "output_type": "execute_result",
          "data": {
            "text/plain": [
              "array([ 52500.,  77000., 144000., 100800.])"
            ]
          },
          "metadata": {},
          "execution_count": 4
        }
      ]
    },
    {
      "cell_type": "code",
      "source": [
        "np.mean(total_salary)"
      ],
      "metadata": {
        "colab": {
          "base_uri": "https://localhost:8080/"
        },
        "id": "pQxzNR55xm1H",
        "outputId": "7f1000fe-4504-4e92-b5ba-a5ec0aff8035"
      },
      "execution_count": null,
      "outputs": [
        {
          "output_type": "execute_result",
          "data": {
            "text/plain": [
              "np.float64(93575.0)"
            ]
          },
          "metadata": {},
          "execution_count": 5
        }
      ]
    }
  ]
}